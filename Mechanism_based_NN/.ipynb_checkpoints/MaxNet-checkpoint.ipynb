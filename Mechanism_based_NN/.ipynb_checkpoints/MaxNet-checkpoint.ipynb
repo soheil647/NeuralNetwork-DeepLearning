{
 "cells": [
  {
   "cell_type": "code",
   "execution_count": 1,
   "metadata": {
    "pycharm": {
     "is_executing": false
    }
   },
   "outputs": [],
   "source": [
    "import numpy as np\n",
    "import copy"
   ]
  },
  {
   "cell_type": "code",
   "execution_count": 12,
   "metadata": {
    "pycharm": {
     "is_executing": false,
     "name": "#%%\n"
    }
   },
   "outputs": [
    {
     "name": "stdout",
     "output_type": "stream",
     "text": [
      "[[ 1.  -0.1 -0.1 -0.1]\n",
      " [-0.1  1.  -0.1 -0.1]\n",
      " [-0.1 -0.1  1.  -0.1]\n",
      " [-0.1 -0.1 -0.1  1. ]]\n"
     ]
    }
   ],
   "source": [
    "a = [1.2, 1.1, 1, 0.9, 0.95, 1.15]\n",
    "e = 0.1\n",
    "weights = np.empty(shape=(4,4))\n",
    "weights.fill(1)\n",
    "for i in range(4):\n",
    "    for j in range(4):\n",
    "        if i == j:\n",
    "            weights[i][j] = 1\n",
    "        else:\n",
    "            weights[i][j] = -e\n",
    "print(weights)"
   ]
  },
  {
   "cell_type": "code",
   "execution_count": 9,
   "metadata": {
    "pycharm": {
     "is_executing": false
    }
   },
   "outputs": [],
   "source": [
    "def activation(x):\n",
    "    if x >= 0:\n",
    "        return x\n",
    "    return 0"
   ]
  },
  {
   "cell_type": "markdown",
   "metadata": {
    "pycharm": {
     "name": "#%% md\n"
    }
   },
   "source": [
    "# Find Maximum Neuron with MaxNet Implimentation"
   ]
  },
  {
   "cell_type": "code",
   "execution_count": 13,
   "metadata": {},
   "outputs": [
    {
     "name": "stdout",
     "output_type": "stream",
     "text": [
      "Iteration 0 - activations = ['1.20', '1.10', '1.00', '0.90', '0.95', '1.15']\n",
      "Iteration 1 - activations = ['0.69', '0.58', '0.47', '0.36', '0.41', '0.63']\n",
      "Iteration 2 - activations = ['0.44', '0.32', '0.20', '0.08', '0.14', '0.38']\n",
      "Iteration 3 - activations = ['0.33', '0.20', '0.06', '0.00', '0.00', '0.26']\n",
      "Iteration 4 - activations = ['0.28', '0.13', '0.00', '0.00', '0.00', '0.21']\n",
      "Iteration 5 - activations = ['0.24', '0.08', '0.00', '0.00', '0.00', '0.16']\n",
      "Iteration 6 - activations = ['0.22', '0.04', '0.00', '0.00', '0.00', '0.13']\n",
      "Iteration 7 - activations = ['0.20', '0.01', '0.00', '0.00', '0.00', '0.10']\n",
      "Iteration 8 - activations = ['0.19', '0.00', '0.00', '0.00', '0.00', '0.08']\n",
      "Iteration 9 - activations = ['0.18', '0.00', '0.00', '0.00', '0.00', '0.06']\n",
      "Iteration 10 - activations = ['0.18', '0.00', '0.00', '0.00', '0.00', '0.05']\n",
      "Iteration 11 - activations = ['0.17', '0.00', '0.00', '0.00', '0.00', '0.03']\n",
      "Iteration 12 - activations = ['0.17', '0.00', '0.00', '0.00', '0.00', '0.01']\n",
      "Iteration 13 - activations = ['0.17', '0.00', '0.00', '0.00', '0.00', '0.00']\n",
      "Winning neuron :  1.2\n"
     ]
    }
   ],
   "source": [
    "a_old = np.array(a.copy())\n",
    "a_new = []\n",
    "count = 0\n",
    "while True: \n",
    "    print('Iteration {} - activations = {}'.format(count, [ '%.2f' % elem for elem in a_old ]))\n",
    "    temp = np.sum(a_old)\n",
    "    for i in range(len(a_old)): \n",
    "        value = a_old[i] - e * temp + e * a_old[i]\n",
    "        a_new.append(activation(value))\n",
    "    a_old = a_new.copy() \n",
    "    count += 1\n",
    "    if np.sum(a_new) == max(a_new): \n",
    "        break\n",
    "    a_new = []\n",
    "    \n",
    "print('Iteration {} - activations = {}'.format(count, [ '%.2f' % elem for elem in a_new ]))\n",
    "\n",
    "\n",
    "i=0\n",
    "while a_new[i]==0:\n",
    "    i=i+1\n",
    "print (\"Winning neuron : \", a[i])"
   ]
  },
  {
   "cell_type": "markdown",
   "metadata": {},
   "source": [
    "# Sort ascending with MaxNet"
   ]
  },
  {
   "cell_type": "code",
   "execution_count": 14,
   "metadata": {
    "pycharm": {
     "name": "#%%\n"
    }
   },
   "outputs": [
    {
     "name": "stdout",
     "output_type": "stream",
     "text": [
      "Iteration 0 - activations = ['1.20', '1.10', '1.00', '0.90', '0.95', '1.15']\n",
      "Iteration 1 - activations = ['0.69', '0.58', '0.47', '0.36', '0.41', '0.63']\n",
      "Iteration 2 - activations = ['0.44', '0.32', '0.20', '0.08', '0.14', '0.38']\n",
      "Iteration 3 - activations = ['0.33', '0.20', '0.06', '0.00', '0.00', '0.26']\n",
      "Iteration 4 - activations = ['0.28', '0.13', '0.00', '0.00', '0.00', '0.21']\n",
      "Iteration 5 - activations = ['0.24', '0.08', '0.00', '0.00', '0.00', '0.16']\n",
      "Iteration 6 - activations = ['0.22', '0.04', '0.00', '0.00', '0.00', '0.13']\n",
      "Iteration 7 - activations = ['0.20', '0.01', '0.00', '0.00', '0.00', '0.10']\n",
      "Iteration 8 - activations = ['0.19', '0.00', '0.00', '0.00', '0.00', '0.08']\n",
      "Iteration 9 - activations = ['0.18', '0.00', '0.00', '0.00', '0.00', '0.06']\n",
      "Iteration 10 - activations = ['0.18', '0.00', '0.00', '0.00', '0.00', '0.05']\n",
      "Iteration 11 - activations = ['0.17', '0.00', '0.00', '0.00', '0.00', '0.03']\n",
      "Iteration 12 - activations = ['0.17', '0.00', '0.00', '0.00', '0.00', '0.01']\n",
      "Iteration 13 - activations = ['0.17', '0.00', '0.00', '0.00', '0.00', '0.00']\n",
      "Winning neuron :  1.2\n",
      "ascending order neuron :  [0.9, 0.95, 1, 1.1, 1.2]\n"
     ]
    }
   ],
   "source": [
    "a_old = np.array(a.copy())\n",
    "a_new = []\n",
    "count = 0\n",
    "order_list = []\n",
    "while True: \n",
    "    for i in range(len(a_old)):\n",
    "        if a_old[i] == 0 and not order_list.__contains__(a[i]):\n",
    "            order_list.append(a[i])\n",
    "    print('Iteration {} - activations = {}'.format(count, [ '%.2f' % elem for elem in a_old ]))\n",
    "    temp = np.sum(a_old)\n",
    "    for i in range(len(a_old)): \n",
    "        value = a_old[i] - e * temp + e * a_old[i]\n",
    "        a_new.append(activation(value))\n",
    "    a_old = a_new.copy() \n",
    "    count += 1\n",
    "    if np.sum(a_new) == max(a_new): \n",
    "        break\n",
    "    a_new = []\n",
    "    \n",
    "print('Iteration {} - activations = {}'.format(count, [ '%.2f' % elem for elem in a_new ]))\n",
    "\n",
    "\n",
    "i=0\n",
    "while a_new[i]==0:\n",
    "    i=i+1\n",
    "print (\"Winning neuron : \", a[i])\n",
    "order_list.append(a[i])\n",
    "print (\"ascending order neuron : \", order_list)"
   ]
  },
  {
   "cell_type": "markdown",
   "metadata": {},
   "source": [
    "# Sort descending with MaxNet"
   ]
  },
  {
   "cell_type": "code",
   "execution_count": null,
   "metadata": {
    "pycharm": {
     "name": "#%%\n"
    }
   },
   "outputs": [],
   "source": [
    "a_old = np.array(a.copy())\n",
    "a_new = []\n",
    "count = 0\n",
    "order_list = []\n",
    "while True: \n",
    "    for i in range(len(a_old)):\n",
    "        if a_old[i] == 0 and not order_list.__contains__(a[i]):\n",
    "            order_list.append(a[i])\n",
    "    print('Iteration {} - activations = {}'.format(count, [ '%.2f' % elem for elem in a_old ]))\n",
    "    temp = np.sum(a_old)\n",
    "    for i in range(len(a_old)): \n",
    "        value = a_old[i] - e * temp + e * a_old[i]\n",
    "        a_new.append(activation(value))\n",
    "    a_old = a_new.copy() \n",
    "    count += 1\n",
    "    if np.sum(a_new) == max(a_new): \n",
    "        break\n",
    "    a_new = []\n",
    "    \n",
    "print('Iteration {} - activations = {}'.format(count, [ '%.2f' % elem for elem in a_new ]))\n",
    "\n",
    "\n",
    "i=0\n",
    "while a_new[i]==0:\n",
    "    i=i+1\n",
    "print (\"Winning neuron : \", a[i])\n",
    "order_list.append(a[i])\n",
    "print (\"descending order neuron : \", order_list)\n"
   ]
  },
  {
   "cell_type": "markdown",
   "metadata": {},
   "source": [
    "# Now We Want to sort Neurons in ascending order:"
   ]
  },
  {
   "cell_type": "code",
   "execution_count": 16,
   "metadata": {
    "pycharm": {
     "name": "#%%\n"
    }
   },
   "outputs": [
    {
     "name": "stdout",
     "output_type": "stream",
     "text": [
      "Iteration 0 - activations = ['1.20', '1.10', '1.00', '0.90', '0.95', '1.15']\n",
      "Iteration 1 - activations = ['0.69', '0.58', '0.47', '0.36', '0.41', '0.63']\n",
      "Iteration 2 - activations = ['0.44', '0.32', '0.20', '0.08', '0.14', '0.38']\n",
      "Iteration 3 - activations = ['0.33', '0.20', '0.06', '0.00', '0.00', '0.26']\n",
      "Iteration 4 - activations = ['0.28', '0.13', '0.00', '0.00', '0.00', '0.21']\n",
      "Iteration 5 - activations = ['0.24', '0.08', '0.00', '0.00', '0.00', '0.16']\n",
      "Iteration 6 - activations = ['0.22', '0.04', '0.00', '0.00', '0.00', '0.13']\n",
      "Iteration 7 - activations = ['0.20', '0.01', '0.00', '0.00', '0.00', '0.10']\n",
      "Iteration 8 - activations = ['0.19', '0.00', '0.00', '0.00', '0.00', '0.08']\n",
      "Iteration 9 - activations = ['0.18', '0.00', '0.00', '0.00', '0.00', '0.06']\n",
      "Iteration 10 - activations = ['0.18', '0.00', '0.00', '0.00', '0.00', '0.05']\n",
      "Iteration 11 - activations = ['0.17', '0.00', '0.00', '0.00', '0.00', '0.03']\n",
      "Iteration 12 - activations = ['0.17', '0.00', '0.00', '0.00', '0.00', '0.01']\n",
      "Iteration 13 - activations = ['0.17', '0.00', '0.00', '0.00', '0.00', '0.00']\n",
      "Winning neuron :  1.2\n",
      "descending order neuron :  [0.9, 0.95, 1, 1.1, 1.2]\n"
     ]
    }
   ],
   "source": [
    "a_old = np.array(a.copy())\n",
    "a_new = []\n",
    "count = 0\n",
    "order_list = []\n",
    "while True: \n",
    "    for i in range(len(a_old)):\n",
    "        if a_old[i] == 0 and not order_list.__contains__(a[i]):\n",
    "            order_list.append(a[i])\n",
    "    print('Iteration {} - activations = {}'.format(count, [ '%.2f' % elem for elem in a_old ]))\n",
    "    temp = np.sum(a_old)\n",
    "    for i in range(len(a_old)): \n",
    "        value = a_old[i] - e * temp + e * a_old[i]\n",
    "        a_new.append(activation(value))\n",
    "    a_old = a_new.copy() \n",
    "    count += 1\n",
    "    if np.sum(a_new) == max(a_new): \n",
    "        break\n",
    "    a_new = []\n",
    "    \n",
    "print('Iteration {} - activations = {}'.format(count, [ '%.2f' % elem for elem in a_new ]))\n",
    "\n",
    "\n",
    "i=0\n",
    "while a_new[i]==0:\n",
    "    i=i+1\n",
    "print (\"Winning neuron : \", a[i])\n",
    "order_list.append(a[i])\n",
    "print (\"descending order neuron : \", order_list)\n"
   ]
  }
 ],
 "metadata": {
  "kernelspec": {
   "display_name": "Python 3",
   "language": "python",
   "name": "python3"
  },
  "language_info": {
   "codemirror_mode": {
    "name": "ipython",
    "version": 3
   },
   "file_extension": ".py",
   "mimetype": "text/x-python",
   "name": "python",
   "nbconvert_exporter": "python",
   "pygments_lexer": "ipython3",
   "version": "3.7.7"
  },
  "pycharm": {
   "stem_cell": {
    "cell_type": "raw",
    "metadata": {
     "collapsed": false
    },
    "source": []
   }
  }
 },
 "nbformat": 4,
 "nbformat_minor": 1
}
