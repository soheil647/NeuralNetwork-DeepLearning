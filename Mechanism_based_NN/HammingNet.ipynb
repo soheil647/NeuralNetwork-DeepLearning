{
 "cells": [
  {
   "cell_type": "code",
   "execution_count": 2,
   "metadata": {},
   "outputs": [],
   "source": [
    "import numpy as np\n",
    "import copy"
   ]
  },
  {
   "cell_type": "code",
   "execution_count": 3,
   "metadata": {},
   "outputs": [],
   "source": [
    "example_vectors = [[1, -1, 1, -1, 1, -1], [-1, 1, -1, 1, -1, 1], [1, 1, 1, 1, 1, 1]]\n",
    "test_vectors = [[1, -1, 1, 1, -1, 1], [-1, 1, 1, -1, 1, -1], [1, 1, 1, -1, -1, -1], [-1, -1, -1, 1, 1, 1], \n",
    "                [1, 1, 1, 1, 1, 1], [-1, -1, 1, -1, -1, -1], [-1, -1, -1, 1, -1, -1], [1, 1, -1, -1, 1, 1],\n",
    "                [1, 1, -1, 1, 1, 1], [1, 1, 1, -1, 1, 1]]\n",
    "\n"
   ]
  },
  {
   "cell_type": "code",
   "execution_count": 4,
   "metadata": {},
   "outputs": [
    {
     "name": "stdout",
     "output_type": "stream",
     "text": [
      "[[ 0.5 -0.5  0.5]\n",
      " [-0.5  0.5  0.5]\n",
      " [ 0.5 -0.5  0.5]\n",
      " [-0.5  0.5  0.5]\n",
      " [ 0.5 -0.5  0.5]\n",
      " [-0.5  0.5  0.5]]\n"
     ]
    }
   ],
   "source": [
    "# initial weights\n",
    "weights = []\n",
    "for i in range(len(example_vectors)):\n",
    "    w = [number / 2 for number in example_vectors[i]]\n",
    "    weights.append(w)\n",
    "weights = np.array(weights).transpose()\n",
    "print(weights)"
   ]
  },
  {
   "cell_type": "code",
   "execution_count": 5,
   "metadata": {},
   "outputs": [],
   "source": [
    "# initial biases\n",
    "bias = [3, 3, 3]\n",
    "y_in = np.zeros((3,1))\n",
    "y = np.zeros((3,1))"
   ]
  },
  {
   "cell_type": "code",
   "execution_count": 6,
   "metadata": {},
   "outputs": [],
   "source": [
    "def activation(x):\n",
    "    if x >= 0:\n",
    "        return x\n",
    "    return 0\n",
    "\n",
    "e = 0.1"
   ]
  },
  {
   "cell_type": "code",
   "execution_count": 9,
   "metadata": {},
   "outputs": [
    {
     "name": "stdout",
     "output_type": "stream",
     "text": [
      "Test Vector Number:  0\n",
      "Winning neuron :  [4.]\n",
      "Winning neuron number :  3\n",
      "\n",
      "Test Vector Number:  1\n",
      "Winning neuron :  [4.]\n",
      "Winning neuron number :  1\n",
      "\n",
      "Test Vector Number:  2\n",
      "Winning neuron :  [4.]\n",
      "Winning neuron number :  1\n",
      "\n",
      "Test Vector Number:  3\n",
      "Winning neuron :  [4.]\n",
      "Winning neuron number :  2\n",
      "\n",
      "Test Vector Number:  4\n",
      "Winning neuron :  [6.]\n",
      "Winning neuron number :  3\n",
      "\n",
      "Test Vector Number:  5\n",
      "Winning neuron :  [4.]\n",
      "Winning neuron number :  1\n",
      "\n",
      "Test Vector Number:  6\n",
      "Winning neuron :  [4.]\n",
      "Winning neuron number :  2\n",
      "\n",
      "Test Vector Number:  7\n",
      "Winning neuron :  [4.]\n",
      "Winning neuron number :  3\n",
      "\n",
      "Test Vector Number:  8\n",
      "Winning neuron :  [5.]\n",
      "Winning neuron number :  3\n",
      "\n",
      "Test Vector Number:  9\n",
      "Winning neuron :  [5.]\n",
      "Winning neuron number :  3\n",
      "\n"
     ]
    }
   ],
   "source": [
    "for i in range(len(test_vectors)):\n",
    "    print(\"Test Vector Number: \", i)\n",
    "    for j in range(len(example_vectors)):\n",
    "        y_in[j] = bias[j] + np.sum(np.array(weights).transpose()[j] * test_vectors[i])\n",
    "        \n",
    "    y = copy.deepcopy(y_in)\n",
    "    \n",
    "    y_old = np.array(y.copy())\n",
    "    y_new = []\n",
    "    count = 0\n",
    "    while True: \n",
    "#         print('Iteration {} - activations = {}'.format(count, [ '%.2f' % elem for elem in y_old ]))\n",
    "        temp = np.sum(y_old)\n",
    "        for i in range(len(y_old)): \n",
    "            value = y_old[i] - e * temp + e * y_old[i]\n",
    "            y_new.append(activation(value))\n",
    "        y_old = y_new.copy() \n",
    "        count += 1\n",
    "        if np.sum(y_new) == max(y_new): \n",
    "            break\n",
    "        y_new = []\n",
    "\n",
    "#     print('Iteration {} - activations = {}'.format(count, [ '%.2f' % elem for elem in y_new ]))\n",
    "\n",
    "\n",
    "    i=0\n",
    "    while y_new[i]==0:\n",
    "        i=i+1\n",
    "    print (\"Winning neuron : \", y[i])\n",
    "    print (\"Winning neuron number : \", i+1)\n",
    "    print()\n",
    "        "
   ]
  },
  {
   "cell_type": "code",
   "execution_count": null,
   "metadata": {},
   "outputs": [],
   "source": []
  }
 ],
 "metadata": {
  "kernelspec": {
   "display_name": "Python 3",
   "language": "python",
   "name": "python3"
  },
  "language_info": {
   "codemirror_mode": {
    "name": "ipython",
    "version": 3
   },
   "file_extension": ".py",
   "mimetype": "text/x-python",
   "name": "python",
   "nbconvert_exporter": "python",
   "pygments_lexer": "ipython3",
   "version": "3.7.7"
  }
 },
 "nbformat": 4,
 "nbformat_minor": 4
}
